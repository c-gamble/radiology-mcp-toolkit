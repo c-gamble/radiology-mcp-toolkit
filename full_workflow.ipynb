{
 "cells": [
  {
   "cell_type": "markdown",
   "metadata": {},
   "source": [
    "## Setup"
   ]
  },
  {
   "cell_type": "code",
   "execution_count": 23,
   "metadata": {},
   "outputs": [],
   "source": [
    "import os\n",
    "os.environ['CUDA_VISIBLE_DEVICES'] = ''"
   ]
  },
  {
   "cell_type": "code",
   "execution_count": 2,
   "metadata": {},
   "outputs": [],
   "source": [
    "!./env/bin/pip install -r requirements.txt --quiet"
   ]
  },
  {
   "cell_type": "markdown",
   "metadata": {},
   "source": [
    "## Step 0: Calibration"
   ]
  },
  {
   "cell_type": "markdown",
   "metadata": {},
   "source": [
    "#### Modify YOLO Source Code to Disable Suppression"
   ]
  },
  {
   "cell_type": "code",
   "execution_count": 3,
   "metadata": {},
   "outputs": [
    {
     "name": "stdout",
     "output_type": "stream",
     "text": [
      "Updated YOLO source code to disable default suppression!\n"
     ]
    }
   ],
   "source": [
    "!cd ./env/lib/python3.8/site-packages/ultralytics/yolo/utils && wget https://cq500-mcp.s3.amazonaws.com/ops.py --quiet\n",
    "print(\"Updated YOLO source code to disable default suppression!\")"
   ]
  },
  {
   "cell_type": "markdown",
   "metadata": {},
   "source": [
    "#### Run YOLO Inference on Calibration Dataset"
   ]
  },
  {
   "cell_type": "code",
   "execution_count": 24,
   "metadata": {},
   "outputs": [
    {
     "name": "stdout",
     "output_type": "stream",
     "text": [
      "Found https://cq500-mcp.s3.amazonaws.com/yolo-v8-final-weights.pt locally at yolo-v8-final-weights.pt\n",
      "Ultralytics YOLOv8.0.123 🚀 Python-3.8.16 torch-2.0.1 CPU\n",
      "Model summary (fused): 268 layers, 68128383 parameters, 0 gradients\n",
      "\u001b[34m\u001b[1mval: \u001b[0mScanning /Users/coopergamble/Desktop/research/mayo/cq500/radiology-mcp-tool\u001b[0m\n",
      "                 Class     Images  Instances      Box(P          R      mAP50  m\n",
      "                   all          2          2      0.177      0.971      0.586       0.49\n",
      "                   IPH          2          2      0.177      0.971      0.586       0.49\n",
      "Speed: 1.0ms preprocess, 684.4ms inference, 0.0ms loss, 1196.4ms postprocess per image\n",
      "Results saved to \u001b[1mStep 0: Calibration/Calibration Inference Outputs\u001b[0m\n",
      "Calibration inference complete!\n"
     ]
    }
   ],
   "source": [
    "# Run Inference on Calibration Dataset\n",
    "!yolo detect val data=\"./Step 0: Calibration/calibration.yaml\" model=\"https://cq500-mcp.s3.amazonaws.com/yolo-v8-final-weights.pt\" device=cpu seed=829 imgsz=512 project=\"Step 0: Calibration\" name=\"Calibration Inference Outputs\" save_txt=True save_conf=True conf=0 iou=1 max_det=10000 exist_ok=True\n",
    "\n",
    "# Cleanup\n",
    "for file in os.listdir('./Step 0: Calibration/Calibration Inference Outputs/'):\n",
    "    if not os.path.isdir(os.path.join('./Step 0: Calibration/Calibration Inference Outputs/', file)):\n",
    "        os.system(f'rm -rf \"./Step 0: Calibration/Calibration Inference Outputs/{file}\"')\n",
    "os.system(\"rm -rf ./example_data/calibration/labels.cache\")\n",
    "\n",
    "print(f\"Calibration inference complete!\")"
   ]
  },
  {
   "cell_type": "code",
   "execution_count": 25,
   "metadata": {},
   "outputs": [
    {
     "name": "stdout",
     "output_type": "stream",
     "text": [
      "100%|█████████████████████████████████████████████| 2/2 [00:00<00:00, 27.12it/s]\n",
      "100%|████████████████████████████████████████████| 2/2 [00:00<00:00, 862.85it/s]\n",
      "100%|█████████████████████████████████████████| 2/2 [00:00<00:00, 123361.88it/s]\n",
      "100%|█████████████████████████████████████████| 2/2 [00:00<00:00, 135300.13it/s]\n",
      "Formatted calibration HNU values!\n"
     ]
    }
   ],
   "source": [
    "!./env/bin/python \"./Step 0: Calibration/calibrate.py\"\n",
    "print(f\"Formatted calibration HNU values!\")"
   ]
  },
  {
   "cell_type": "markdown",
   "metadata": {},
   "source": [
    "## Step 1: Raw Predictions"
   ]
  },
  {
   "cell_type": "code",
   "execution_count": 5,
   "metadata": {},
   "outputs": [
    {
     "name": "stdout",
     "output_type": "stream",
     "text": [
      "Found https://cq500-mcp.s3.amazonaws.com/yolo-v8-final-weights.pt locally at yolo-v8-final-weights.pt\n",
      "Ultralytics YOLOv8.0.123 🚀 Python-3.8.16 torch-2.0.1 CPU\n",
      "Model summary (fused): 268 layers, 68128383 parameters, 0 gradients\n",
      "\u001b[34m\u001b[1mval: \u001b[0mScanning /Users/coopergamble/Desktop/research/mayo/cq500/radiology-mcp-tool\u001b[0m\n",
      "\u001b[34m\u001b[1mval: \u001b[0mNew cache created: /Users/coopergamble/Desktop/research/mayo/cq500/radiology-mcp-toolkit/example_data/test/labels.cache\n",
      "                 Class     Images  Instances      Box(P          R      mAP50  m\n",
      "                   all          2          2       0.12          1      0.562      0.514\n",
      "                   IPH          2          2       0.12          1      0.562      0.514\n",
      "Speed: 1.5ms preprocess, 790.9ms inference, 0.0ms loss, 1297.0ms postprocess per image\n",
      "Results saved to \u001b[1mStep 1: Raw Predictions/Test Inference Outputs\u001b[0m\n",
      "Test inference complete!\n"
     ]
    }
   ],
   "source": [
    "# Run Inference on Test Dataset\n",
    "!yolo detect val data=\"./Step 1: Raw Predictions/test.yaml\" model=\"https://cq500-mcp.s3.amazonaws.com/yolo-v8-final-weights.pt\" device=cpu seed=829 imgsz=512 project=\"Step 1: Raw Predictions\" name=\"Test Inference Outputs\" save_txt=True save_conf=True conf=0 iou=1 max_det=10000 exist_ok=True\n",
    "\n",
    "# Cleanup\n",
    "for file in os.listdir('./Step 1: Raw Predictions/Test Inference Outputs/'):\n",
    "    if not os.path.isdir(os.path.join('./Step 1: Raw Predictions/Test Inference Outputs/', file)):\n",
    "        os.system(f'rm -rf \"./Step 1: Raw Predictions/Test Inference Outputs/{file}\"')\n",
    "os.system(\"rm -rf ./example_data/test/labels.cache\")\n",
    "\n",
    "print(f\"Test inference complete!\")"
   ]
  },
  {
   "cell_type": "code",
   "execution_count": 7,
   "metadata": {},
   "outputs": [
    {
     "name": "stdout",
     "output_type": "stream",
     "text": [
      "100%|█████████████████████████████████████████████| 2/2 [00:00<00:00, 88.68it/s]\n"
     ]
    }
   ],
   "source": [
    "!./env/bin/python \"./Step 1: Raw Predictions/format_predictions.py\"\n",
    "print(f\"Formatted test HNU values!\")"
   ]
  },
  {
   "cell_type": "markdown",
   "metadata": {},
   "source": [
    "## Step 2: Class-wise NMS"
   ]
  },
  {
   "cell_type": "code",
   "execution_count": 10,
   "metadata": {},
   "outputs": [
    {
     "name": "stdout",
     "output_type": "stream",
     "text": [
      "100%|███████████████████████████████████████████| 2/2 [00:00<00:00, 1731.75it/s]\n"
     ]
    }
   ],
   "source": [
    "!./env/bin/python \"./Step 2: Class-wise NMS/suppress_classwise.py\"\n",
    "print(f\"Suppressed non-max test predictions!\")"
   ]
  },
  {
   "cell_type": "markdown",
   "metadata": {},
   "source": [
    "## Step 3: Cluster Creation"
   ]
  },
  {
   "cell_type": "code",
   "execution_count": 14,
   "metadata": {},
   "outputs": [
    {
     "name": "stdout",
     "output_type": "stream",
     "text": [
      "100%|██████████████████████████████████████████| 2/2 [00:00<00:00, 11634.69it/s]\n",
      "100%|██████████████████████████████████████████| 2/2 [00:00<00:00, 21675.99it/s]\n",
      "Created clusters!\n"
     ]
    }
   ],
   "source": [
    "!./env/bin/python \"./Step 3: Cluster Creation/create_clusters.py\"\n",
    "print(f\"Created clusters!\")"
   ]
  },
  {
   "cell_type": "markdown",
   "metadata": {},
   "source": [
    "## Step 4 and Step 5: Cluster Filling"
   ]
  },
  {
   "cell_type": "code",
   "execution_count": 21,
   "metadata": {},
   "outputs": [
    {
     "name": "stdout",
     "output_type": "stream",
     "text": [
      "100%|█████████████████████████████████████████████| 2/2 [00:00<00:00, 28.30it/s]\n",
      "Filled clusters and performed cluster-wise NMS!\n"
     ]
    }
   ],
   "source": [
    "!./env/bin/python \"./Step 4 and Step 5: Cluster Filling/fill_clusters.py\"\n",
    "print(f\"Filled clusters and performed cluster-wise NMS!\")"
   ]
  },
  {
   "cell_type": "markdown",
   "metadata": {},
   "source": [
    "## Step 6: Prediction Sets"
   ]
  },
  {
   "cell_type": "code",
   "execution_count": 27,
   "metadata": {},
   "outputs": [
    {
     "name": "stdout",
     "output_type": "stream",
     "text": [
      "100%|███████████████████████████████████████████| 2/2 [00:00<00:00, 5319.35it/s]\n",
      "100%|██████████████████████████████████████████| 2/2 [00:00<00:00, 35246.25it/s]\n",
      "100%|██████████████████████████████████████████| 2/2 [00:00<00:00, 71697.50it/s]\n",
      "Generated prediction sets!\n"
     ]
    }
   ],
   "source": [
    "!./env/bin/python \"./Step 6: Prediction Sets/generate_predictions.py\"\n",
    "print(f\"Generated prediction sets!\")"
   ]
  },
  {
   "cell_type": "code",
   "execution_count": null,
   "metadata": {},
   "outputs": [],
   "source": []
  }
 ],
 "metadata": {
  "kernelspec": {
   "display_name": "Python 3",
   "language": "python",
   "name": "python3"
  },
  "language_info": {
   "codemirror_mode": {
    "name": "ipython",
    "version": 3
   },
   "file_extension": ".py",
   "mimetype": "text/x-python",
   "name": "python",
   "nbconvert_exporter": "python",
   "pygments_lexer": "ipython3",
   "version": "3.8.16"
  }
 },
 "nbformat": 4,
 "nbformat_minor": 2
}
